{
 "cells": [
  {
   "cell_type": "code",
   "execution_count": 0,
   "metadata": {
    "application/vnd.databricks.v1+cell": {
     "cellMetadata": {
      "byteLimit": 2048000,
      "rowLimit": 10000
     },
     "inputWidgets": {},
     "nuid": "8517df0e-5111-4c50-8584-b77b864c0b41",
     "showTitle": false,
     "tableResultSettingsMap": {},
     "title": ""
    }
   },
   "outputs": [
    {
     "output_type": "stream",
     "name": "stdout",
     "output_type": "stream",
     "text": [
      "Hi Data Folks\n"
     ]
    }
   ],
   "source": [
    " print(\"Hi Data Folks\")"
   ]
  },
  {
   "cell_type": "code",
   "execution_count": 0,
   "metadata": {
    "application/vnd.databricks.v1+cell": {
     "cellMetadata": {},
     "inputWidgets": {},
     "nuid": "7b8eb6e6-72be-4acc-a823-df21236554dd",
     "showTitle": false,
     "tableResultSettingsMap": {},
     "title": ""
    }
   },
   "outputs": [],
   "source": [
    "Python Data Structure:\n",
    "  \n",
    "  Strings,\n",
    "  List,\n",
    "  Set,\n",
    "  Tuple,\n",
    "  Dictionary"
   ]
  },
  {
   "cell_type": "code",
   "execution_count": 0,
   "metadata": {
    "application/vnd.databricks.v1+cell": {
     "cellMetadata": {
      "byteLimit": 2048000,
      "rowLimit": 10000
     },
     "inputWidgets": {},
     "nuid": "ea679a51-700c-4c92-b322-a723832e9adc",
     "showTitle": false,
     "tableResultSettingsMap": {},
     "title": ""
    }
   },
   "outputs": [
    {
     "output_type": "stream",
     "name": "stdout",
     "output_type": "stream",
     "text": [
      "grep: path: No such file or directory\nwc: path: No such file or directory\n/bin/bash: line 3: s3: command not found\n/bin/bash: -c: line 5: syntax error near unexpected token `('\n/bin/bash: -c: line 5: `File received in inbound bucket (.txt,.txt,.gz,.parquet)'\n"
     ]
    }
   ],
   "source": [
    "%sh\n",
    "zcat s3://inbound/files/abcd.txt.gz | grep ''\n",
    " \n",
    "%sh\n",
    " \n",
    "Burger king\n",
    " \n",
    " \n",
    "File received in inbound bucket (.txt,.txt.gz,.parquet) - abcd.txt(s3://inbound/files/)\n",
    " \n",
    "transformation are done through scala/pyspark codes, these codes can call SQL to do transformations\n",
    " \n",
    "Load the data in outbound bucket\n",
    " "
   ]
  },
  {
   "cell_type": "markdown",
   "metadata": {
    "application/vnd.databricks.v1+cell": {
     "cellMetadata": {},
     "inputWidgets": {},
     "nuid": "333eb50d-17b3-46cd-abbe-09da38b6b78f",
     "showTitle": false,
     "tableResultSettingsMap": {},
     "title": ""
    }
   },
   "source": [
    "\n",
    "Strings\n",
    "\n",
    "string1 = \"Data folk's\""
   ]
  },
  {
   "cell_type": "code",
   "execution_count": 0,
   "metadata": {
    "application/vnd.databricks.v1+cell": {
     "cellMetadata": {
      "byteLimit": 2048000,
      "rowLimit": 10000
     },
     "inputWidgets": {},
     "nuid": "3f0e75a4-1839-4b21-9f75-79199222a2af",
     "showTitle": false,
     "tableResultSettingsMap": {},
     "title": ""
    }
   },
   "outputs": [
    {
     "output_type": "stream",
     "name": "stdout",
     "output_type": "stream",
     "text": [
      "Data Folks\n"
     ]
    }
   ],
   "source": [
    "string = \"Data Folks\"\n",
    "print(string)"
   ]
  },
  {
   "cell_type": "markdown",
   "metadata": {
    "application/vnd.databricks.v1+cell": {
     "cellMetadata": {},
     "inputWidgets": {},
     "nuid": "31d24cc7-bf24-4545-a8ca-e8f4f2160164",
     "showTitle": false,
     "tableResultSettingsMap": {},
     "title": ""
    }
   },
   "source": [
    "\n",
    "Interview Questions\n",
    "\n",
    "1. How can we concatenate 2 strings?\n",
    "\n",
    "2. mutable and immutable\n",
    "\n",
    "3. How can we check if a substring is present in a string?\n",
    "\n",
    "4. Slicing of string?"
   ]
  },
  {
   "cell_type": "code",
   "execution_count": 0,
   "metadata": {
    "application/vnd.databricks.v1+cell": {
     "cellMetadata": {
      "byteLimit": 2048000,
      "rowLimit": 10000
     },
     "inputWidgets": {},
     "nuid": "fa4bee6b-3934-4d66-a763-f2dc154c0760",
     "showTitle": false,
     "tableResultSettingsMap": {},
     "title": ""
    }
   },
   "outputs": [
    {
     "output_type": "stream",
     "name": "stdout",
     "output_type": "stream",
     "text": [
      "Hello Ranju\nHello Ranju your age is 20\n"
     ]
    }
   ],
   "source": [
    "name = \"Ranju\"\n",
    "age =\"20\"\n",
    "greeting = \"Hello\" + \" \" + name\n",
    "print(greeting)\n",
    "print (f\"Hello {name} your age is {age}\")"
   ]
  },
  {
   "cell_type": "markdown",
   "metadata": {
    "application/vnd.databricks.v1+cell": {
     "cellMetadata": {
      "byteLimit": 2048000,
      "rowLimit": 10000
     },
     "inputWidgets": {},
     "nuid": "c4f51290-43e3-4020-b314-958f8aef119e",
     "showTitle": false,
     "tableResultSettingsMap": {},
     "title": ""
    }
   },
   "source": [
    "\n",
    "Mutable - Change can be performed\n",
    "Immutable - Change cannot be performed"
   ]
  },
  {
   "cell_type": "code",
   "execution_count": 0,
   "metadata": {
    "application/vnd.databricks.v1+cell": {
     "cellMetadata": {
      "byteLimit": 2048000,
      "rowLimit": 10000
     },
     "inputWidgets": {},
     "nuid": "1ff13870-6a1d-401f-93a7-4979b79dc861",
     "showTitle": false,
     "tableResultSettingsMap": {},
     "title": ""
    }
   },
   "outputs": [
    {
     "output_type": "display_data",
     "data": {
      "text/plain": [
       "\u001B[0;31m---------------------------------------------------------------------------\u001B[0m\n",
       "\u001B[0;31mTypeError\u001B[0m                                 Traceback (most recent call last)\n",
       "File \u001B[0;32m<command-4189311596040944>:2\u001B[0m\n",
       "\u001B[1;32m      1\u001B[0m text \u001B[38;5;241m=\u001B[39m \u001B[38;5;124m'\u001B[39m\u001B[38;5;124mPython\u001B[39m\u001B[38;5;124m'\u001B[39m\n",
       "\u001B[0;32m----> 2\u001B[0m text[\u001B[38;5;241m0\u001B[39m] \u001B[38;5;241m=\u001B[39m\u001B[38;5;124m'\u001B[39m\u001B[38;5;124m3\u001B[39m\u001B[38;5;124m'\u001B[39m\n",
       "\u001B[1;32m      3\u001B[0m \u001B[38;5;28mprint\u001B[39m(text)\n",
       "\n",
       "\u001B[0;31mTypeError\u001B[0m: 'str' object does not support item assignment"
      ]
     },
     "metadata": {
      "application/vnd.databricks.v1+output": {
       "arguments": {},
       "data": "\u001B[0;31m---------------------------------------------------------------------------\u001B[0m\n\u001B[0;31mTypeError\u001B[0m                                 Traceback (most recent call last)\nFile \u001B[0;32m<command-4189311596040944>:2\u001B[0m\n\u001B[1;32m      1\u001B[0m text \u001B[38;5;241m=\u001B[39m \u001B[38;5;124m'\u001B[39m\u001B[38;5;124mPython\u001B[39m\u001B[38;5;124m'\u001B[39m\n\u001B[0;32m----> 2\u001B[0m text[\u001B[38;5;241m0\u001B[39m] \u001B[38;5;241m=\u001B[39m\u001B[38;5;124m'\u001B[39m\u001B[38;5;124m3\u001B[39m\u001B[38;5;124m'\u001B[39m\n\u001B[1;32m      3\u001B[0m \u001B[38;5;28mprint\u001B[39m(text)\n\n\u001B[0;31mTypeError\u001B[0m: 'str' object does not support item assignment",
       "errorSummary": "<span class='ansi-red-fg'>TypeError</span>: 'str' object does not support item assignment",
       "errorTraceType": "ansi",
       "metadata": {},
       "type": "ipynbError"
      }
     },
     "output_type": "display_data"
    }
   ],
   "source": [
    "text = 'Python'\n",
    "text[0] ='3'\n",
    "print(text)"
   ]
  },
  {
   "cell_type": "code",
   "execution_count": 0,
   "metadata": {
    "application/vnd.databricks.v1+cell": {
     "cellMetadata": {
      "byteLimit": 2048000,
      "rowLimit": 10000
     },
     "inputWidgets": {},
     "nuid": "df26447c-c5a4-471f-9eac-63694b1bf5e7",
     "showTitle": false,
     "tableResultSettingsMap": {},
     "title": ""
    }
   },
   "outputs": [
    {
     "output_type": "stream",
     "name": "stdout",
     "output_type": "stream",
     "text": [
      "True\n"
     ]
    }
   ],
   "source": [
    "statement = \"Learning Data Engineering is fun!\"\n",
    "\n",
    "print(\"fun\" in statement)"
   ]
  },
  {
   "cell_type": "code",
   "execution_count": 0,
   "metadata": {
    "application/vnd.databricks.v1+cell": {
     "cellMetadata": {
      "byteLimit": 2048000,
      "rowLimit": 10000
     },
     "inputWidgets": {},
     "nuid": "5421a52e-717e-4b4e-b73b-d342f32ec9fc",
     "showTitle": false,
     "tableResultSettingsMap": {},
     "title": ""
    }
   },
   "outputs": [
    {
     "output_type": "stream",
     "name": "stdout",
     "output_type": "stream",
     "text": [
      "10\nello\nHlo\nHlool\n"
     ]
    }
   ],
   "source": [
    "word = \"Helloworld\"\n",
    "print(len(word))\n",
    "\n",
    "#Indexing starts fro 0 len (string) - 1\n",
    "print(word[1:5])\n",
    "\n",
    "#so yo slicing ma xai 0:5:2 0 xai starting index ho ani 5 xai ending index ho ani last ma xai 2 le xai 2 times skip gardai janxa word bata \n",
    "print(word[0:5:2])\n",
    "\n",
    "#[first_parameter:second_parameter:step]\n",
    "print(word[::2])"
   ]
  },
  {
   "cell_type": "code",
   "execution_count": 0,
   "metadata": {
    "application/vnd.databricks.v1+cell": {
     "cellMetadata": {
      "byteLimit": 2048000,
      "rowLimit": 10000
     },
     "inputWidgets": {},
     "nuid": "15fba9a1-1c31-42d3-9c8c-b233f466d8f0",
     "showTitle": false,
     "tableResultSettingsMap": {},
     "title": ""
    }
   },
   "outputs": [
    {
     "output_type": "display_data",
     "data": {
      "text/plain": [
       "Hey enter the value you wanted to reverse :  cfdef"
      ]
     },
     "metadata": {},
     "output_type": "display_data"
    },
    {
     "output_type": "stream",
     "name": "stdout",
     "output_type": "stream",
     "text": [
      "Hey your reversed string is : fedfc\nHey your reversed string is : fedfc\n"
     ]
    }
   ],
   "source": [
    "#Reverse program\n",
    "\n",
    "input_item = input(\"Hey enter the value you wanted to reverse : \")\n",
    "\n",
    "output = input_item[::-1]\n",
    "\n",
    "print(\"Hey your reversed string is : \" + output)\n",
    "print(f\"Hey your reversed string is : {output}\")"
   ]
  },
  {
   "cell_type": "markdown",
   "metadata": {
    "application/vnd.databricks.v1+cell": {
     "cellMetadata": {
      "byteLimit": 2048000,
      "rowLimit": 10000
     },
     "inputWidgets": {},
     "nuid": "16e1b7e1-6183-417d-8c93-83a2c3f01219",
     "showTitle": false,
     "tableResultSettingsMap": {},
     "title": ""
    }
   },
   "source": [
    "Palindrome:\n",
    "  \n",
    "  either you read from start or from end the result will be same\n",
    "\n",
    "hello \n",
    "\n",
    "when you concatenate string with reversed string the added word will give you palindrome"
   ]
  },
  {
   "cell_type": "code",
   "execution_count": 0,
   "metadata": {
    "application/vnd.databricks.v1+cell": {
     "cellMetadata": {
      "byteLimit": 2048000,
      "rowLimit": 10000
     },
     "inputWidgets": {},
     "nuid": "f8041b19-6213-49ae-954a-ff89fe900ba4",
     "showTitle": false,
     "tableResultSettingsMap": {},
     "title": ""
    }
   },
   "outputs": [
    {
     "output_type": "display_data",
     "data": {
      "text/plain": [
       "Hey enter the value you want to reverse :  hello"
      ]
     },
     "metadata": {},
     "output_type": "display_data"
    },
    {
     "output_type": "stream",
     "name": "stdout",
     "output_type": "stream",
     "text": [
      "the palindrome of the input string is helloolleh\n"
     ]
    }
   ],
   "source": [
    "# Program for Generating Palindrome of any word\n",
    "\n",
    "input_item = input(\"Hey enter the value you want to reverse : \")\n",
    "\n",
    "reversed_string = input_item[::-1]\n",
    "\n",
    "palindrome_string = input_item + reversed_string\n",
    "\n",
    "print(\"the palindrome of the input string is \" + palindrome_string)"
   ]
  },
  {
   "cell_type": "markdown",
   "metadata": {
    "application/vnd.databricks.v1+cell": {
     "cellMetadata": {
      "byteLimit": 2048000,
      "rowLimit": 10000
     },
     "inputWidgets": {},
     "nuid": "2e6f17e1-9506-4f0c-9992-963b064fcb56",
     "showTitle": false,
     "tableResultSettingsMap": {},
     "title": ""
    }
   },
   "source": [
    "List\n",
    "\n",
    "Collection of elements"
   ]
  },
  {
   "cell_type": "code",
   "execution_count": 0,
   "metadata": {
    "application/vnd.databricks.v1+cell": {
     "cellMetadata": {
      "byteLimit": 2048000,
      "rowLimit": 10000
     },
     "inputWidgets": {},
     "nuid": "718fe575-a100-4d1c-9e7b-348d9864b785",
     "showTitle": false,
     "tableResultSettingsMap": {},
     "title": ""
    }
   },
   "outputs": [
    {
     "output_type": "stream",
     "name": "stdout",
     "output_type": "stream",
     "text": [
      "['Banana', 'Banana', 'Mango', 23, 3, 3]\n"
     ]
    }
   ],
   "source": [
    "fruits = [\"Apple\",\"Banana\",\"Mango\",23,3,3]\n",
    "fruits[0] =\"Banana\"\n",
    "print(fruits)\n",
    "#Lists are Mutable"
   ]
  },
  {
   "cell_type": "code",
   "execution_count": 0,
   "metadata": {
    "application/vnd.databricks.v1+cell": {
     "cellMetadata": {
      "byteLimit": 2048000,
      "rowLimit": 10000
     },
     "inputWidgets": {},
     "nuid": "5c4ccf8b-80a2-4f80-8492-43d385e35b20",
     "showTitle": false,
     "tableResultSettingsMap": {},
     "title": ""
    }
   },
   "outputs": [
    {
     "output_type": "stream",
     "name": "stdout",
     "output_type": "stream",
     "text": [
      "<class 'list'>\n"
     ]
    }
   ],
   "source": [
    "print(type(fruits))"
   ]
  },
  {
   "cell_type": "code",
   "execution_count": 0,
   "metadata": {
    "application/vnd.databricks.v1+cell": {
     "cellMetadata": {
      "byteLimit": 2048000,
      "rowLimit": 10000
     },
     "inputWidgets": {},
     "nuid": "c163620e-f4cf-4b59-a9de-957a3349cfa8",
     "showTitle": false,
     "tableResultSettingsMap": {},
     "title": ""
    }
   },
   "outputs": [
    {
     "output_type": "stream",
     "name": "stdout",
     "output_type": "stream",
     "text": [
      "['Banana', 'Banana', 'Mango', 23, 3, 3, 'orange']\n"
     ]
    }
   ],
   "source": [
    "fruits.append(\"orange\")\n",
    "print(fruits)"
   ]
  },
  {
   "cell_type": "code",
   "execution_count": 0,
   "metadata": {
    "application/vnd.databricks.v1+cell": {
     "cellMetadata": {
      "byteLimit": 2048000,
      "rowLimit": 10000
     },
     "inputWidgets": {},
     "nuid": "ac2c2d3b-59e9-4dc0-afad-41c03dbd1ad0",
     "showTitle": false,
     "tableResultSettingsMap": {},
     "title": ""
    }
   },
   "outputs": [
    {
     "output_type": "stream",
     "name": "stdout",
     "output_type": "stream",
     "text": [
      "['Banana', 'Banana', 'Mango', 23, 3, 3]\n"
     ]
    }
   ],
   "source": [
    "fruits.remove(\"orange\")\n",
    "print(fruits)"
   ]
  },
  {
   "cell_type": "code",
   "execution_count": 0,
   "metadata": {
    "application/vnd.databricks.v1+cell": {
     "cellMetadata": {
      "byteLimit": 2048000,
      "rowLimit": 10000
     },
     "inputWidgets": {},
     "nuid": "732bb70e-8670-42d5-b473-4ab358bac8cb",
     "showTitle": false,
     "tableResultSettingsMap": {},
     "title": ""
    }
   },
   "outputs": [
    {
     "output_type": "stream",
     "name": "stdout",
     "output_type": "stream",
     "text": [
      "[100, 200, 1000, 400, 500]\n[100, 150, 200, 1000, 400, 500]\n"
     ]
    }
   ],
   "source": [
    "numbers = [100,200,300,400,500]\n",
    "\n",
    "numbers[2] =1000\n",
    "\n",
    "print(numbers)\n",
    "\n",
    "#insert is used to add any integers or data to add in any indezx of the list \n",
    "numbers.insert(1,150)\n",
    "\n",
    "print(numbers)"
   ]
  },
  {
   "cell_type": "code",
   "execution_count": 0,
   "metadata": {
    "application/vnd.databricks.v1+cell": {
     "cellMetadata": {
      "byteLimit": 2048000,
      "rowLimit": 10000
     },
     "inputWidgets": {},
     "nuid": "bcaf229a-ec3a-4647-81b1-3fee008b0dbc",
     "showTitle": false,
     "tableResultSettingsMap": {},
     "title": ""
    }
   },
   "outputs": [
    {
     "output_type": "stream",
     "name": "stdout",
     "output_type": "stream",
     "text": [
      "[100, 200, 400]\n[500, 400, 1000, 200, 150, 100]\n6\n"
     ]
    }
   ],
   "source": [
    "print(numbers[::2])\n",
    "\n",
    "print(numbers[::-1])\n",
    "\n",
    "print(len(numbers))\n"
   ]
  },
  {
   "cell_type": "markdown",
   "metadata": {
    "application/vnd.databricks.v1+cell": {
     "cellMetadata": {},
     "inputWidgets": {},
     "nuid": "8f4621bb-2603-48c3-8581-6212e78ad4ed",
     "showTitle": false,
     "tableResultSettingsMap": {},
     "title": ""
    }
   },
   "source": [
    "\n",
    "Set: only holds unique element \n",
    "\n",
    "Also one thing set is unordered so it does not support slicing"
   ]
  },
  {
   "cell_type": "code",
   "execution_count": 0,
   "metadata": {
    "application/vnd.databricks.v1+cell": {
     "cellMetadata": {
      "byteLimit": 2048000,
      "rowLimit": 10000
     },
     "inputWidgets": {},
     "nuid": "3f828546-0cf6-4051-b38a-d749a1814cc8",
     "showTitle": false,
     "tableResultSettingsMap": {},
     "title": ""
    }
   },
   "outputs": [
    {
     "output_type": "stream",
     "name": "stdout",
     "output_type": "stream",
     "text": [
      "{'apple', 'cherry', 'banana'}\n{'apple', 'cherry', 'banana'}\n{'apple', 'cherry', 'banana'}\n"
     ]
    }
   ],
   "source": [
    "fruits = {\"apple\",\"banana\",\"cherry\",\"apple\"}\n",
    "print(fruits)\n",
    "print(fruits)\n",
    "print(fruits)\n"
   ]
  },
  {
   "cell_type": "code",
   "execution_count": 0,
   "metadata": {
    "application/vnd.databricks.v1+cell": {
     "cellMetadata": {
      "byteLimit": 2048000,
      "rowLimit": 10000
     },
     "inputWidgets": {},
     "nuid": "d1c48503-76d5-4dc5-bf9f-6fc111a739f6",
     "showTitle": false,
     "tableResultSettingsMap": {},
     "title": ""
    }
   },
   "outputs": [
    {
     "output_type": "stream",
     "name": "stdout",
     "output_type": "stream",
     "text": [
      "[100, 500, 600, 300, 900, 50]\n"
     ]
    }
   ],
   "source": [
    "#Plaese remove duplicates from a list and return the new list \n",
    "list1 =[100,500,600,100,300,900,100,50]\n",
    "empty_list=[]\n",
    "\n",
    "for element in list1:\n",
    "  if element not in empty_list:\n",
    "    empty_list.append(element)\n",
    "print(empty_list)\n"
   ]
  },
  {
   "cell_type": "code",
   "execution_count": 0,
   "metadata": {
    "application/vnd.databricks.v1+cell": {
     "cellMetadata": {
      "byteLimit": 2048000,
      "rowLimit": 10000
     },
     "inputWidgets": {},
     "nuid": "a4637238-b7ff-4746-b662-3ea1f363da30",
     "showTitle": false,
     "tableResultSettingsMap": {},
     "title": ""
    }
   },
   "outputs": [
    {
     "output_type": "stream",
     "name": "stdout",
     "output_type": "stream",
     "text": [
      "[50, 100, 300, 500, 600, 900]\n"
     ]
    }
   ],
   "source": [
    "list1 =[100,500,600,100,300,900,100,50]\n",
    "\n",
    "print(sorted(list(set(list1))))"
   ]
  },
  {
   "cell_type": "markdown",
   "metadata": {
    "application/vnd.databricks.v1+cell": {
     "cellMetadata": {},
     "inputWidgets": {},
     "nuid": "66b53e84-8769-4ace-a918-536d86672ec9",
     "showTitle": false,
     "tableResultSettingsMap": {},
     "title": ""
    }
   },
   "source": [
    "\n",
    "Tuple"
   ]
  },
  {
   "cell_type": "code",
   "execution_count": 0,
   "metadata": {
    "application/vnd.databricks.v1+cell": {
     "cellMetadata": {
      "byteLimit": 2048000,
      "rowLimit": 10000
     },
     "inputWidgets": {},
     "nuid": "27c1e0bb-16ef-455d-8e57-c6eedfa58014",
     "showTitle": false,
     "tableResultSettingsMap": {},
     "title": ""
    }
   },
   "outputs": [
    {
     "output_type": "stream",
     "name": "stdout",
     "output_type": "stream",
     "text": [
      "[100, 33, 223, 2, 3, 3, 3, 22]\n(100, 33, 223, 2, 3, 3, 3, 22)\n[100, 33, 300, 223, 2, 3, 3, 3, 22]\n2\n"
     ]
    }
   ],
   "source": [
    "list1 = [100,33,223,2,3,3,3,22]\n",
    "tuple1 = (100,33,223,2,3,3,3,22)\n",
    "\n",
    "print(list1)\n",
    "print(tuple1)\n",
    "\n",
    "#Tuple once createc can't be changed\n",
    "\n",
    "list1.insert(2,300)\n",
    "print(list1)\n",
    "\n",
    "print(tuple1[3])\n",
    "\n",
    "#When we use tuple?\n",
    " "
   ]
  },
  {
   "cell_type": "markdown",
   "metadata": {
    "application/vnd.databricks.v1+cell": {
     "cellMetadata": {},
     "inputWidgets": {},
     "nuid": "aebae602-ef4b-4d9d-92af-d93ad4504afe",
     "showTitle": false,
     "tableResultSettingsMap": {},
     "title": ""
    }
   },
   "source": [
    "\n",
    "While loop\n",
    "\n",
    "-Initialization\n",
    "-Condition check\n",
    "-Loop Body\n",
    "-Termination"
   ]
  },
  {
   "cell_type": "code",
   "execution_count": 0,
   "metadata": {
    "application/vnd.databricks.v1+cell": {
     "cellMetadata": {
      "byteLimit": 2048000,
      "rowLimit": 10000
     },
     "inputWidgets": {},
     "nuid": "0d2553e3-6500-4a47-a8d6-fb2920af2b10",
     "showTitle": false,
     "tableResultSettingsMap": {},
     "title": ""
    }
   },
   "outputs": [
    {
     "output_type": "stream",
     "name": "stdout",
     "output_type": "stream",
     "text": [
      "countdown 5\ncountdown 4\ncountdown 3\ncountdown 2\ncountdown 1\nList\n"
     ]
    }
   ],
   "source": [
    "count =5\n",
    "\n",
    "while count > 0:\n",
    "  print(\"countdown\",count)\n",
    "  count-=1\n",
    "\n",
    "print(\"List\")\n",
    "\n"
   ]
  },
  {
   "cell_type": "markdown",
   "metadata": {
    "application/vnd.databricks.v1+cell": {
     "cellMetadata": {},
     "inputWidgets": {},
     "nuid": "cf298aaf-6082-42fd-ac80-baa03bfa2d28",
     "showTitle": false,
     "tableResultSettingsMap": {},
     "title": ""
    }
   },
   "source": [
    "\n",
    "Write a program to get the sum of all the list"
   ]
  },
  {
   "cell_type": "code",
   "execution_count": 0,
   "metadata": {
    "application/vnd.databricks.v1+cell": {
     "cellMetadata": {
      "byteLimit": 2048000,
      "rowLimit": 10000
     },
     "inputWidgets": {},
     "nuid": "75ccd97d-41dc-4ae0-af45-f332b8d0c301",
     "showTitle": false,
     "tableResultSettingsMap": {},
     "title": ""
    }
   },
   "outputs": [
    {
     "output_type": "stream",
     "name": "stdout",
     "output_type": "stream",
     "text": [
      "256\n"
     ]
    }
   ],
   "source": [
    "l1 = [202,3,43,4,4]\n",
    "j = 0\n",
    "for i in l1:\n",
    " j +=i\n",
    "print(j) "
   ]
  },
  {
   "cell_type": "code",
   "execution_count": 0,
   "metadata": {
    "application/vnd.databricks.v1+cell": {
     "cellMetadata": {
      "byteLimit": 2048000,
      "rowLimit": 10000
     },
     "inputWidgets": {},
     "nuid": "014b6a70-f5bc-47aa-a1b6-a76f665f8cf2",
     "showTitle": false,
     "tableResultSettingsMap": {},
     "title": ""
    }
   },
   "outputs": [
    {
     "output_type": "stream",
     "name": "stdout",
     "output_type": "stream",
     "text": [
      "256\n"
     ]
    }
   ],
   "source": [
    "total_2nd = sum(l1)\n",
    "print(total_2nd)"
   ]
  },
  {
   "cell_type": "code",
   "execution_count": 0,
   "metadata": {
    "application/vnd.databricks.v1+cell": {
     "cellMetadata": {
      "byteLimit": 2048000,
      "rowLimit": 10000
     },
     "inputWidgets": {},
     "nuid": "d58b6553-bd66-427e-82eb-bc681c4249f2",
     "showTitle": false,
     "tableResultSettingsMap": {},
     "title": ""
    }
   },
   "outputs": [
    {
     "output_type": "stream",
     "name": "stdout",
     "output_type": "stream",
     "text": [
      "256\n"
     ]
    }
   ],
   "source": [
    "total = 0\n",
    "index = 0\n",
    "while index <len(l1):\n",
    "  total+=l1[index]\n",
    "  index =index + 1\n",
    "print(total)"
   ]
  },
  {
   "cell_type": "code",
   "execution_count": 0,
   "metadata": {
    "application/vnd.databricks.v1+cell": {
     "cellMetadata": {
      "byteLimit": 2048000,
      "rowLimit": 10000
     },
     "inputWidgets": {},
     "nuid": "c2d80226-5d67-4777-a2de-a221a34cc7f9",
     "showTitle": false,
     "tableResultSettingsMap": {},
     "title": ""
    }
   },
   "outputs": [],
   "source": [
    "def name():\n",
    "  print(\"Prakhyat\")"
   ]
  },
  {
   "cell_type": "code",
   "execution_count": 0,
   "metadata": {
    "application/vnd.databricks.v1+cell": {
     "cellMetadata": {
      "byteLimit": 2048000,
      "rowLimit": 10000
     },
     "inputWidgets": {},
     "nuid": "29aa075a-c5bc-4eea-a3e8-7f7a2726a122",
     "showTitle": false,
     "tableResultSettingsMap": {},
     "title": ""
    }
   },
   "outputs": [
    {
     "output_type": "stream",
     "name": "stdout",
     "output_type": "stream",
     "text": [
      "Prakhyat\n"
     ]
    }
   ],
   "source": [
    "name()"
   ]
  },
  {
   "cell_type": "code",
   "execution_count": 0,
   "metadata": {
    "application/vnd.databricks.v1+cell": {
     "cellMetadata": {
      "byteLimit": 2048000,
      "rowLimit": 10000
     },
     "inputWidgets": {},
     "nuid": "84e3752d-ee69-443a-8de8-2734dec54b7b",
     "showTitle": false,
     "tableResultSettingsMap": {},
     "title": ""
    }
   },
   "outputs": [
    {
     "output_type": "stream",
     "name": "stdout",
     "output_type": "stream",
     "text": [
      "Out[72]: 'Coders are nice'"
     ]
    }
   ],
   "source": [
    "def DataEngineering():\n",
    "  return \"Coders are nice\"\n",
    "\n",
    "DataEngineering()"
   ]
  },
  {
   "cell_type": "code",
   "execution_count": 0,
   "metadata": {
    "application/vnd.databricks.v1+cell": {
     "cellMetadata": {
      "byteLimit": 2048000,
      "rowLimit": 10000
     },
     "inputWidgets": {},
     "nuid": "f1b20875-eae6-4220-a5da-6cc24c80c80c",
     "showTitle": false,
     "tableResultSettingsMap": {},
     "title": ""
    }
   },
   "outputs": [
    {
     "output_type": "stream",
     "name": "stdout",
     "output_type": "stream",
     "text": [
      "My Banking App\n1. Display Balance\n2. Deposit Balance\n3. Withdraw Balance\n4. Exit\n"
     ]
    },
    {
     "output_type": "display_data",
     "data": {
      "text/plain": [
       "Enter your choice {1-4} 1"
      ]
     },
     "metadata": {},
     "output_type": "display_data"
    },
    {
     "output_type": "stream",
     "name": "stdout",
     "output_type": "stream",
     "text": [
      "your current balance is  0.000000\nMy Banking App\n1. Display Balance\n2. Deposit Balance\n3. Withdraw Balance\n4. Exit\n"
     ]
    },
    {
     "output_type": "display_data",
     "data": {
      "text/plain": [
       "Enter your choice {1-4} 2"
      ]
     },
     "metadata": {},
     "output_type": "display_data"
    },
    {
     "output_type": "display_data",
     "data": {
      "text/plain": [
       "Enter the amount to be deposited :  50000"
      ]
     },
     "metadata": {},
     "output_type": "display_data"
    },
    {
     "output_type": "stream",
     "name": "stdout",
     "output_type": "stream",
     "text": [
      "My Banking App\n1. Display Balance\n2. Deposit Balance\n3. Withdraw Balance\n4. Exit\n"
     ]
    },
    {
     "output_type": "display_data",
     "data": {
      "text/plain": [
       "Enter your choice {1-4} 3"
      ]
     },
     "metadata": {},
     "output_type": "display_data"
    },
    {
     "output_type": "display_data",
     "data": {
      "text/plain": [
       "Enter the amount to be withdrawn :  2000"
      ]
     },
     "metadata": {},
     "output_type": "display_data"
    },
    {
     "output_type": "stream",
     "name": "stdout",
     "output_type": "stream",
     "text": [
      "My Banking App\n1. Display Balance\n2. Deposit Balance\n3. Withdraw Balance\n4. Exit\n"
     ]
    },
    {
     "output_type": "display_data",
     "data": {
      "text/plain": [
       "Enter your choice {1-4} 1"
      ]
     },
     "metadata": {},
     "output_type": "display_data"
    },
    {
     "output_type": "stream",
     "name": "stdout",
     "output_type": "stream",
     "text": [
      "your current balance is  48000.000000\nMy Banking App\n1. Display Balance\n2. Deposit Balance\n3. Withdraw Balance\n4. Exit\n"
     ]
    },
    {
     "output_type": "display_data",
     "data": {
      "text/plain": [
       "Enter your choice {1-4} 4"
      ]
     },
     "metadata": {},
     "output_type": "display_data"
    },
    {
     "output_type": "stream",
     "name": "stdout",
     "output_type": "stream",
     "text": [
      "Thanks for your visit\n"
     ]
    }
   ],
   "source": [
    "def display_balance():\n",
    "  print(f\"your current balance is {balance: 2f}\")\n",
    " \n",
    "def deposit_balance():\n",
    "  amount_to_be_deposited = float(input(\"Enter the amount to be deposited : \"))\n",
    "  if amount_to_be_deposited < 0:\n",
    "    print(\"Invalid amount entered, please deposit amount greater than 0\")\n",
    "  else:\n",
    "    return amount_to_be_deposited\n",
    " \n",
    "def withdraw_balance():\n",
    "   amount_to_be_withdrawn = float(input(\"Enter the amount to be withdrawn : \"))\n",
    "   if amount_to_be_withdrawn > balance :\n",
    "     print(\"Amount to be withdrawn is greater than balance left , Sorry!\")\n",
    "   elif amount_to_be_withdrawn < 0:\n",
    "     print(\"Invalid amount entered, please withdraw amount greater than 0\")\n",
    "   else:\n",
    "     return amount_to_be_withdrawn\n",
    " \n",
    " \n",
    "balance=0\n",
    "isRunning = True\n",
    " \n",
    "while isRunning:\n",
    "  print(\"My Banking App\")\n",
    "  print(\"1. Display Balance\")\n",
    "  print(\"2. Deposit Balance\")\n",
    "  print(\"3. Withdraw Balance\")\n",
    "  print(\"4. Exit\")\n",
    " \n",
    "  choice = int(input(\"Enter your choice {1-4}\"))\n",
    "  if choice == 1:\n",
    "    display_balance()\n",
    "  elif choice == 2:\n",
    "    balance += deposit_balance()\n",
    "  elif choice == 3:\n",
    "    balance -= withdraw_balance()\n",
    "  elif choice == 4:\n",
    "    print(\"Thanks for your visit\")\n",
    "    isRunning = False\n",
    "  else:\n",
    "    print(\"Please enter valid input\")\n",
    " "
   ]
  }
 ],
 "metadata": {
  "application/vnd.databricks.v1+notebook": {
   "dashboards": [],
   "environmentMetadata": null,
   "language": "python",
   "notebookMetadata": {
    "mostRecentlyExecutedCommandWithImplicitDF": {
     "commandId": 4189311596040937,
     "dataframes": [
      "_sqldf"
     ]
    },
    "pythonIndentUnit": 2
   },
   "notebookName": "Python Session 3",
   "widgets": {}
  }
 },
 "nbformat": 4,
 "nbformat_minor": 0
}
