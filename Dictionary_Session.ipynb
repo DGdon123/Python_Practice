{
 "cells": [
  {
   "cell_type": "markdown",
   "metadata": {
    "application/vnd.databricks.v1+cell": {
     "cellMetadata": {},
     "inputWidgets": {},
     "nuid": "af41e2ed-6c77-4de1-b2e6-53acbea1dde1",
     "showTitle": false,
     "tableResultSettingsMap": {},
     "title": ""
    }
   },
   "source": [
    "\n",
    "Dictionary\n",
    "\n",
    "List - [] - Mutable\n",
    "Tuple -() - Immutable Dictionary - {key:value}, my_dict = {}\n",
    "\n",
    "Dictionary is changeable.\n",
    "\n",
    "There is no indexing in dictionary.\n",
    "\n",
    "Key should be of immutable data type"
   ]
  },
  {
   "cell_type": "code",
   "execution_count": 0,
   "metadata": {
    "application/vnd.databricks.v1+cell": {
     "cellMetadata": {
      "byteLimit": 2048000,
      "rowLimit": 10000
     },
     "inputWidgets": {},
     "nuid": "a600937e-07d7-4a23-ade9-6c217da32357",
     "showTitle": false,
     "tableResultSettingsMap": {},
     "title": ""
    }
   },
   "outputs": [],
   "source": [
    "dict_word ={\n",
    "  \"Car\": \"A 4 wheeler\",\n",
    "  \"Truck\": \"A commercial vehicle\",\n",
    "  \"Bike\":\"A 2 wheeler\"\n",
    "}"
   ]
  },
  {
   "cell_type": "code",
   "execution_count": 0,
   "metadata": {
    "application/vnd.databricks.v1+cell": {
     "cellMetadata": {
      "byteLimit": 2048000,
      "rowLimit": 10000
     },
     "inputWidgets": {},
     "nuid": "2205def7-5d23-4dd3-828b-77efc8aceecb",
     "showTitle": false,
     "tableResultSettingsMap": {},
     "title": ""
    }
   },
   "outputs": [
    {
     "output_type": "stream",
     "name": "stdout",
     "output_type": "stream",
     "text": [
      "{'Car': 'A 4 wheeler', 'Truck': 'A commercial vehicle', 'Bike': 'A 2 wheeler'}\n<class 'dict'>\n"
     ]
    }
   ],
   "source": [
    "print(dict_word)\n",
    "print(type(dict_word))\n",
    "prindict_word[\"Bike\"]"
   ]
  },
  {
   "cell_type": "markdown",
   "metadata": {
    "application/vnd.databricks.v1+cell": {
     "cellMetadata": {},
     "inputWidgets": {},
     "nuid": "1ec28a47-166f-4c9d-992a-20d3af0dc890",
     "showTitle": false,
     "tableResultSettingsMap": {},
     "title": ""
    }
   },
   "source": [
    "\n",
    "Split Method\n"
   ]
  },
  {
   "cell_type": "code",
   "execution_count": 0,
   "metadata": {
    "application/vnd.databricks.v1+cell": {
     "cellMetadata": {
      "byteLimit": 2048000,
      "rowLimit": 10000
     },
     "inputWidgets": {},
     "nuid": "cc7581a1-c090-486a-bb2c-3fc6a3ed3a6b",
     "showTitle": false,
     "tableResultSettingsMap": {},
     "title": ""
    }
   },
   "outputs": [
    {
     "output_type": "stream",
     "name": "stdout",
     "output_type": "stream",
     "text": [
      "['I', 'love', 'my', 'country']\n4\n"
     ]
    }
   ],
   "source": [
    "s1 = \"I love my country\"\n",
    "\n",
    "#How many distinct words are there in this string\n",
    "\n",
    "s1_list = s1.split(\" \")\n",
    "print(s1_list)\n",
    "print(len(s1_list))"
   ]
  },
  {
   "cell_type": "code",
   "execution_count": 0,
   "metadata": {
    "application/vnd.databricks.v1+cell": {
     "cellMetadata": {
      "byteLimit": 2048000,
      "rowLimit": 10000
     },
     "inputWidgets": {},
     "nuid": "127f50df-fa4c-4299-bbc6-646719ea415d",
     "showTitle": false,
     "tableResultSettingsMap": {},
     "title": ""
    }
   },
   "outputs": [
    {
     "output_type": "stream",
     "name": "stdout",
     "output_type": "stream",
     "text": [
      "<class 'str'>\n['I', 'love', 'my', 'country']\n"
     ]
    }
   ],
   "source": [
    "my_string = str(s1_list)\n",
    "print(type(my_string))\n",
    "print(my_string)"
   ]
  },
  {
   "cell_type": "code",
   "execution_count": 0,
   "metadata": {
    "application/vnd.databricks.v1+cell": {
     "cellMetadata": {
      "byteLimit": 2048000,
      "rowLimit": 10000
     },
     "inputWidgets": {},
     "nuid": "5fe82cc5-f71b-4a44-841c-e4f7b7f54868",
     "showTitle": false,
     "tableResultSettingsMap": {},
     "title": ""
    }
   },
   "outputs": [
    {
     "output_type": "stream",
     "name": "stdout",
     "output_type": "stream",
     "text": [
      "I  love  my  country\n"
     ]
    }
   ],
   "source": [
    "s1_out_string =\"  \".join(s1_list)\n",
    "print(s1_out_string)"
   ]
  },
  {
   "cell_type": "code",
   "execution_count": 0,
   "metadata": {
    "application/vnd.databricks.v1+cell": {
     "cellMetadata": {
      "byteLimit": 2048000,
      "rowLimit": 10000
     },
     "inputWidgets": {},
     "nuid": "5dedb9f3-a77b-4936-ad96-de7bbd2df659",
     "showTitle": false,
     "tableResultSettingsMap": {},
     "title": ""
    }
   },
   "outputs": [
    {
     "output_type": "stream",
     "name": "stdout",
     "output_type": "stream",
     "text": [
      "{'Car': 'A 4 wheeler', 'Truck': 'A commercial vehicle', 'Bike': 'A 2 wheeler', (1, 2, 3): 'This is a list defined under a tuple', 1: 'one', 123: ['one', 'two', 'three']}\n"
     ]
    }
   ],
   "source": [
    "dict_word_1 ={\n",
    "  \"Car\": \"A 4 wheeler\",\n",
    "  \"Truck\": \"A commercial vehicle\",\n",
    "  \"Bike\":\"A 2 wheeler\",\n",
    "  tuple([1,2,3]): \"This is a list defined under a tuple\",\n",
    "  1:\"one\",\n",
    "  123: [\"one\",\"two\",\"three\"]\n",
    "}\n",
    "print(dict_word_1)"
   ]
  },
  {
   "cell_type": "code",
   "execution_count": 0,
   "metadata": {
    "application/vnd.databricks.v1+cell": {
     "cellMetadata": {
      "byteLimit": 2048000,
      "rowLimit": 10000
     },
     "inputWidgets": {},
     "nuid": "fa7b9897-bba8-4eb3-a1ce-301748f964bb",
     "showTitle": false,
     "tableResultSettingsMap": {},
     "title": ""
    }
   },
   "outputs": [
    {
     "output_type": "stream",
     "name": "stdout",
     "output_type": "stream",
     "text": [
      "This is a list defined under a tuple\nA commercial vehicle\nNone\n"
     ]
    }
   ],
   "source": [
    "print(dict_word_1[(1,2,3)])\n",
    "print(dict_word_1.get(\"Truck\"))\n",
    "print(dict_word_1.get(\"Auto\"))"
   ]
  },
  {
   "cell_type": "code",
   "execution_count": 0,
   "metadata": {
    "application/vnd.databricks.v1+cell": {
     "cellMetadata": {
      "byteLimit": 2048000,
      "rowLimit": 10000
     },
     "inputWidgets": {},
     "nuid": "98550496-7ba6-4cd2-8b86-e3ee5622ca40",
     "showTitle": false,
     "tableResultSettingsMap": {},
     "title": ""
    }
   },
   "outputs": [
    {
     "output_type": "stream",
     "name": "stdout",
     "output_type": "stream",
     "text": [
      "{'Car': 'A 4 wheeler', 'Truck': 'A commercial vehicle and it has more than 8 tyre', 'Bike': 'A 2 wheeler', (1, 2, 3): 'This is a list defined under a tuple', 1: 'one', 123: ['one', 'two', 'three'], 'Medium': 'Teams'}\n{'Car': 'A 4 wheeler', 'Truck': 'A commercial vehicle and it has more than 8 tyre', 'Bike': 'A 2 wheeler', (1, 2, 3): 'This is a list defined under a tuple', 1: 'one', 123: ['one', 'two', 'three'], 'Medium': 'Teams'}\n"
     ]
    }
   ],
   "source": [
    "dict_word_1[\"Truck\"] =\"A commercial vehicle and it has more than 8 tyre\"\n",
    "print(dict_word_1)\n",
    "dict_word_1[\"Medium\"] =\"Teams\"\n",
    "print(dict_word_1)"
   ]
  },
  {
   "cell_type": "code",
   "execution_count": 0,
   "metadata": {
    "application/vnd.databricks.v1+cell": {
     "cellMetadata": {
      "byteLimit": 2048000,
      "rowLimit": 10000
     },
     "inputWidgets": {},
     "nuid": "3936a8cd-0c0f-4971-9bce-99c655e9d1bf",
     "showTitle": false,
     "tableResultSettingsMap": {},
     "title": ""
    }
   },
   "outputs": [
    {
     "output_type": "stream",
     "name": "stdout",
     "output_type": "stream",
     "text": [
      "15000\n{101: 10000, 102: 20000, 103: 15000}\n15000\nNone\ndict_values([10000, 20000, 15000])\ndict_keys([101, 102, 103])\n3\n{}\n"
     ]
    }
   ],
   "source": [
    "orders_data = [(101,10000),(102,20000),(103,15000)]\n",
    "print(list(orders_data[2])[1])\n",
    "\n",
    "orders_data_dict = dict(orders_data)\n",
    "print(orders_data_dict)\n",
    "print(orders_data_dict[103])\n",
    "print(orders_data_dict.get(104))\n",
    "print(orders_data_dict.values())\n",
    "print(orders_data_dict.keys())\n",
    "print(len(orders_data_dict))\n",
    "orders_data_dict.clear()\n",
    "print(orders_data_dict)"
   ]
  },
  {
   "cell_type": "code",
   "execution_count": 0,
   "metadata": {
    "application/vnd.databricks.v1+cell": {
     "cellMetadata": {
      "byteLimit": 2048000,
      "rowLimit": 10000
     },
     "inputWidgets": {},
     "nuid": "303216d4-9e81-4899-843e-ed69cf1a0a26",
     "showTitle": false,
     "tableResultSettingsMap": {},
     "title": ""
    }
   },
   "outputs": [
    {
     "output_type": "stream",
     "name": "stdout",
     "output_type": "stream",
     "text": [
      "\"id,name,city,state\n['1, Ram,Ayodha,UP', '2, Shyam, Mathura, UP', '3, Harry, Delhi, Delhi', '4, Maddy, Mumbai,Maharasta', '5, Banerja, Kolkata, WB', '']\nKolkata, WB\n"
     ]
    }
   ],
   "source": [
    "raw_data =\"\"\"\"id,name,city,state\n",
    "1, Ram,Ayodha,UP\n",
    "2, Shyam, Mathura, UP\n",
    "3, Harry, Delhi, Delhi\n",
    "4, Maddy, Mumbai,Maharasta\n",
    "5, Banerja, Kolkata, WB\n",
    "\"\"\"\"\"\n",
    "\n",
    "header_of_raw_data = raw_data.split(\"\\n\")[0]\n",
    "print(header_of_raw_data)\n",
    "\n",
    "clean_data_from_raw_data = raw_data.split(\"\\n\")[1:]\n",
    "print(clean_data_from_raw_data)\n",
    "\n",
    "print(clean_data_from_raw_data[4][12:])"
   ]
  },
  {
   "cell_type": "code",
   "execution_count": 0,
   "metadata": {
    "application/vnd.databricks.v1+cell": {
     "cellMetadata": {
      "byteLimit": 2048000,
      "rowLimit": 10000
     },
     "inputWidgets": {},
     "nuid": "e409af0a-d775-4447-856a-ca18583ac56f",
     "showTitle": false,
     "tableResultSettingsMap": {},
     "title": ""
    }
   },
   "outputs": [
    {
     "output_type": "stream",
     "name": "stdout",
     "output_type": "stream",
     "text": [
      "{'1': (' Ram', 'Ayodha', 'UP'), '2': (' Shyam', ' Mathura', ' UP'), '3': (' Harry', ' Delhi', ' Delhi'), '4': (' Maddy', ' Mumbai', 'Maharasta'), '5': (' Banerja', ' Kolkata', ' WB'), '': ()}\n(' Maddy', ' Mumbai', 'Maharasta')\n"
     ]
    }
   ],
   "source": [
    "customer_dict = {}\n",
    "for x in clean_data_from_raw_data:\n",
    "  customer_dict[x.split(\",\")[0]] = tuple(x.split(\",\")[1:])\n",
    "print(customer_dict)\n",
    "print(customer_dict[\"4\"])\n"
   ]
  },
  {
   "cell_type": "markdown",
   "metadata": {
    "application/vnd.databricks.v1+cell": {
     "cellMetadata": {},
     "inputWidgets": {},
     "nuid": "6546968c-1c84-4e4c-bc29-974ac41c0f05",
     "showTitle": false,
     "tableResultSettingsMap": {},
     "title": ""
    }
   },
   "source": [
    "\n",
    "Comprehension"
   ]
  },
  {
   "cell_type": "code",
   "execution_count": 0,
   "metadata": {
    "application/vnd.databricks.v1+cell": {
     "cellMetadata": {
      "byteLimit": 2048000,
      "rowLimit": 10000
     },
     "inputWidgets": {},
     "nuid": "c5a374a2-8e73-4908-b7b3-bd80bd0a5734",
     "showTitle": false,
     "tableResultSettingsMap": {},
     "title": ""
    }
   },
   "outputs": [
    {
     "output_type": "stream",
     "name": "stdout",
     "output_type": "stream",
     "text": [
      "[1, 9, 25, 49, 81]\n"
     ]
    }
   ],
   "source": [
    "l1 = [1, 3,5,7,9]\n",
    "squared_numbers = [x**2 for x in l1]\n",
    "print(squared_numbers)  "
   ]
  },
  {
   "cell_type": "code",
   "execution_count": 0,
   "metadata": {
    "application/vnd.databricks.v1+cell": {
     "cellMetadata": {
      "byteLimit": 2048000,
      "rowLimit": 10000
     },
     "inputWidgets": {},
     "nuid": "98b10f0e-b01a-49c9-ba34-8af6e1a9e897",
     "showTitle": false,
     "tableResultSettingsMap": {},
     "title": ""
    }
   },
   "outputs": [
    {
     "output_type": "stream",
     "name": "stdout",
     "output_type": "stream",
     "text": [
      "[1, 9, 25, 49, 81]\n[1, 9, 25, 49, 81]\n[1, 125, 343, 729]\n[4, 16, 36, 64]\n"
     ]
    }
   ],
   "source": [
    "l1 = [1,3,5,7,9]\n",
    "l2=[]\n",
    "\n",
    "for x in l1:\n",
    "  l2.append(x**2)\n",
    "print(l2)\n",
    "\n",
    "l3=[x**2 for x in l1]\n",
    "print(l3)\n",
    "\n",
    "l3=[x**3 for x in l1 if x!=3]\n",
    "print(l3)\n",
    "\n",
    "l5=[1,2,3,4,5,6,7,8,9]\n",
    "\n",
    "l6=[x**2 for x in l5 if x%2==0]\n",
    "print(l6)"
   ]
  },
  {
   "cell_type": "code",
   "execution_count": 0,
   "metadata": {
    "application/vnd.databricks.v1+cell": {
     "cellMetadata": {
      "byteLimit": 2048000,
      "rowLimit": 10000
     },
     "inputWidgets": {},
     "nuid": "635cc013-4a61-429c-8fd8-c7134f3a407b",
     "showTitle": false,
     "tableResultSettingsMap": {},
     "title": ""
    }
   },
   "outputs": [
    {
     "output_type": "stream",
     "name": "stdout",
     "output_type": "stream",
     "text": [
      "[[1, 200, 'Closed'], [3, 500, 'Closed']]\n[[1, 200, 'Closed'], [3, 500, 'Closed']]\n"
     ]
    }
   ],
   "source": [
    "olist = [[1,200,'Closed'],[2,300,'Pending Payment'],[3,500,'Closed']]\n",
    "empty_list = []\n",
    "\n",
    "for x in olist:\n",
    "  if x[2] ==\"Closed\":\n",
    "    empty_list.append(x)\n",
    "\n",
    "print(empty_list)\n",
    "\n",
    "empty_list_lc = [x for x in olist if x[2]=='Closed']\n",
    "print(empty_list_lc)"
   ]
  }
 ],
 "metadata": {
  "application/vnd.databricks.v1+notebook": {
   "dashboards": [],
   "environmentMetadata": null,
   "language": "python",
   "notebookMetadata": {
    "pythonIndentUnit": 2
   },
   "notebookName": "Dictionary_Session4",
   "widgets": {}
  }
 },
 "nbformat": 4,
 "nbformat_minor": 0
}
